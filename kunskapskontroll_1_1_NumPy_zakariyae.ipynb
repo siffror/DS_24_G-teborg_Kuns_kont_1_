{
 "cells": [
  {
   "cell_type": "markdown",
   "id": "dacf74e6",
   "metadata": {},
   "source": [
    "# NumPy"
   ]
  },
  {
   "cell_type": "markdown",
   "id": "01b2bf34",
   "metadata": {},
   "source": [
    "Read the links: https://numpy.org/doc/stable/user/quickstart.html  and https://numpy.org/doc/stable/user/basics.broadcasting.html  before solving the exercises. "
   ]
  },
  {
   "cell_type": "code",
   "execution_count": 1,
   "id": "1f79e4a6",
   "metadata": {},
   "outputs": [],
   "source": [
    "import numpy as np"
   ]
  },
  {
   "cell_type": "markdown",
   "id": "7dae6889",
   "metadata": {},
   "source": [
    "**Print out the dimension (number of axes), shape, size and the datatype of the matrix A.**"
   ]
  },
  {
   "cell_type": "code",
   "execution_count": 3,
   "id": "7b3678cd",
   "metadata": {},
   "outputs": [
    {
     "name": "stdout",
     "output_type": "stream",
     "text": [
      "Matris A:\n",
      "[[ 1  2  3  4  5]\n",
      " [ 6  7  8  9 10]\n",
      " [11 12 13 14 15]]\n",
      "\n",
      "Dimension (number of axes) : 2\n",
      "Shape (shape) : (3, 5)\n",
      "Size (Total number elements) : 15\n",
      "Datatype : int64\n"
     ]
    }
   ],
   "source": [
    "A = np.arange(1, 16).reshape(3,5)\n",
    "\n",
    "print(\"Matris A:\")\n",
    "print(A)\n",
    "\n",
    "print(\"\\nDimension (number of axes) :\", A.ndim)\n",
    "print(\"Shape (shape) :\", A.shape)\n",
    "print(\"Size (Total number elements) :\", A.size)\n",
    "print(\"Datatype :\", A.dtype)"
   ]
  },
  {
   "cell_type": "markdown",
   "id": "e56d2a96",
   "metadata": {},
   "source": [
    "### Do the following computations on the matrices B and C: \n",
    "* Elementwise subtraction. \n",
    "* Elementwise multiplication. \n",
    "* Matrix multiplication (by default you should use the @ operator)."
   ]
  },
  {
   "cell_type": "code",
   "execution_count": 4,
   "id": "a7053fbb",
   "metadata": {},
   "outputs": [
    {
     "name": "stdout",
     "output_type": "stream",
     "text": [
      "[[1 2 3]\n",
      " [4 5 6]\n",
      " [7 8 9]]\n",
      "\n",
      "[[2. 2. 2.]\n",
      " [2. 2. 2.]\n",
      " [2. 2. 2.]]\n"
     ]
    }
   ],
   "source": [
    "B = np.arange(1, 10).reshape(3, 3)\n",
    "C = np.ones((3, 3))*2\n",
    "\n",
    "print(B)\n",
    "print()\n",
    "print(C)"
   ]
  },
  {
   "cell_type": "code",
   "execution_count": 6,
   "id": "3cd794ae",
   "metadata": {},
   "outputs": [
    {
     "name": "stdout",
     "output_type": "stream",
     "text": [
      "[[-1.  0.  1.]\n",
      " [ 2.  3.  4.]\n",
      " [ 5.  6.  7.]]\n",
      "*********************\n",
      "[[ 2.  4.  6.]\n",
      " [ 8. 10. 12.]\n",
      " [14. 16. 18.]]\n",
      "*********************\n",
      "[[12. 12. 12.]\n",
      " [30. 30. 30.]\n",
      " [48. 48. 48.]]\n"
     ]
    }
   ],
   "source": [
    "X = np.subtract(B, C)\n",
    "print(X)\n",
    "\n",
    "print(\"*********************\")\n",
    "\n",
    "Z = np.multiply(B, C)\n",
    "print(Z)\n",
    "\n",
    "print(\"*********************\")\n",
    "D = B @ C\n",
    "print(D)"
   ]
  },
  {
   "cell_type": "markdown",
   "id": "96030d53",
   "metadata": {},
   "source": [
    "### Do the following calculations on the matrix:\n",
    "* Exponentiate each number elementwise (use the np.exp function).\n",
    "\n",
    "* Calculate the minimum value in the whole matrix. \n",
    "* Calculcate the minimum value in each row. \n",
    "* Calculcate the minimum value in each column. \n",
    "\n",
    "\n",
    "* Find the index value for the minimum value in the whole matrix (hint: use np.argmin).\n",
    "* Find the index value for the minimum value in each row (hint: use np.argmin).\n",
    "\n",
    "\n",
    "* Calculate the sum for all elements.\n",
    "* Calculate the mean for each column. \n",
    "* Calculate the median for each column. "
   ]
  },
  {
   "cell_type": "code",
   "execution_count": 7,
   "id": "f8a9166b",
   "metadata": {},
   "outputs": [
    {
     "name": "stdout",
     "output_type": "stream",
     "text": [
      "[[1 2 3]\n",
      " [4 5 6]\n",
      " [7 8 9]]\n",
      "\n",
      " [[   2.71828183    7.3890561    20.08553692]\n",
      " [  54.59815003  148.4131591   403.42879349]\n",
      " [1096.63315843 2980.95798704 8103.08392758]]\n",
      "\n",
      "Minimum Value in the Whole Matrix: 2.718281828459045\n",
      "\n",
      "Minimum Value in each row: [   2.71828183   54.59815003 1096.63315843]\n",
      "\n",
      "Minimum Value in each column: [ 2.71828183  7.3890561  20.08553692]\n"
     ]
    }
   ],
   "source": [
    "B = np.arange(1, 10).reshape(3, 3)\n",
    "print(B)\n",
    "np.set_printoptions(suppress=True)\n",
    "\n",
    "A= np.exp(B)\n",
    "print(\"\\n\", A)\n",
    "\n",
    "min_value = np.min(A)\n",
    "print(\"\\nMinimum Value in the Whole Matrix:\", min_value)\n",
    "\n",
    "min_value_row = np.min(A, axis=1,)\n",
    "print(\"\\nMinimum Value in each row:\", min_value_row)\n",
    "\n",
    "min_value_column = np.min(A, axis=0,)\n",
    "print(\"\\nMinimum Value in each column:\", min_value_column)\n",
    "\n"
   ]
  },
  {
   "cell_type": "markdown",
   "id": "a5f50da4",
   "metadata": {},
   "source": []
  },
  {
   "cell_type": "markdown",
   "id": "541eb7ba",
   "metadata": {},
   "source": [
    "### What does it mean when you provide fewer indices than axes when slicing? See example below."
   ]
  },
  {
   "cell_type": "code",
   "execution_count": 8,
   "id": "9c8abf56",
   "metadata": {},
   "outputs": [
    {
     "name": "stdout",
     "output_type": "stream",
     "text": [
      "[[   2.71828183    7.3890561    20.08553692]\n",
      " [  54.59815003  148.4131591   403.42879349]\n",
      " [1096.63315843 2980.95798704 8103.08392758]]\n"
     ]
    }
   ],
   "source": [
    "print(A)"
   ]
  },
  {
   "cell_type": "code",
   "execution_count": 9,
   "id": "69415f7b",
   "metadata": {},
   "outputs": [
    {
     "data": {
      "text/plain": [
       "array([ 54.59815003, 148.4131591 , 403.42879349])"
      ]
     },
     "execution_count": 9,
     "metadata": {},
     "output_type": "execute_result"
    }
   ],
   "source": [
    "A[1]"
   ]
  },
  {
   "cell_type": "markdown",
   "id": "6c53541b",
   "metadata": {},
   "source": [
    "**Answer:**"
   ]
  },
  {
   "cell_type": "markdown",
   "id": "798b3e01",
   "metadata": {},
   "source": [
    "\n",
    "### When fewer indices are provided than the number of axes, the missing indices are considered complete slices \n",
    "\n",
    "```python\n",
    "I detta fall Numpy tolkar som att jag vill ha alla världen från den axeln. \n",
    "```"
   ]
  },
  {
   "cell_type": "markdown",
   "id": "6652d0c9",
   "metadata": {},
   "source": [
    "### Iterating over multidimensional arrays is done with respect to the first axis, so in the example below we iterate trough the rows. If you would like to iterate through the array *elementwise*, how would you do that?"
   ]
  },
  {
   "cell_type": "code",
   "execution_count": 10,
   "id": "9459864f",
   "metadata": {},
   "outputs": [
    {
     "data": {
      "text/plain": [
       "array([[   2.71828183,    7.3890561 ,   20.08553692],\n",
       "       [  54.59815003,  148.4131591 ,  403.42879349],\n",
       "       [1096.63315843, 2980.95798704, 8103.08392758]])"
      ]
     },
     "execution_count": 10,
     "metadata": {},
     "output_type": "execute_result"
    }
   ],
   "source": [
    "A"
   ]
  },
  {
   "cell_type": "code",
   "execution_count": 11,
   "id": "a671bb5a",
   "metadata": {},
   "outputs": [
    {
     "name": "stdout",
     "output_type": "stream",
     "text": [
      "[ 2.71828183  7.3890561  20.08553692]\n",
      "[ 54.59815003 148.4131591  403.42879349]\n",
      "[1096.63315843 2980.95798704 8103.08392758]\n"
     ]
    }
   ],
   "source": [
    "for i in A:\n",
    "    print(i)"
   ]
  },
  {
   "cell_type": "code",
   "execution_count": 12,
   "id": "f4e443a0",
   "metadata": {},
   "outputs": [
    {
     "name": "stdout",
     "output_type": "stream",
     "text": [
      "2.718281828459045\n",
      "7.38905609893065\n",
      "20.085536923187668\n",
      "54.598150033144236\n",
      "148.4131591025766\n",
      "403.4287934927351\n",
      "1096.6331584284585\n",
      "2980.9579870417283\n",
      "8103.083927575384\n",
      "*********************\n",
      "2.718281828459045\n",
      "7.38905609893065\n",
      "20.085536923187668\n",
      "54.598150033144236\n",
      "148.4131591025766\n",
      "403.4287934927351\n",
      "1096.6331584284585\n",
      "2980.9579870417283\n",
      "8103.083927575384\n"
     ]
    }
   ],
   "source": [
    "#Jag presenterar två metoder: \n",
    "\n",
    "for elementhwise in np.nditer(A):\n",
    "   print(elementhwise) # np.nditer är em Kraftfull iterator och den är mutable.\n",
    "\n",
    "\n",
    "print(\"*********************\")\n",
    "\n",
    "for element in A.flat:\n",
    "    print(element) #b.flat iterator är enkel, immutable."
   ]
  },
  {
   "cell_type": "markdown",
   "id": "608a2583",
   "metadata": {},
   "source": [
    "### Explain what the code below does. More specifically, b has three axes - what does this mean? "
   ]
  },
  {
   "cell_type": "code",
   "execution_count": 13,
   "id": "f8f9b26f",
   "metadata": {},
   "outputs": [
    {
     "name": "stdout",
     "output_type": "stream",
     "text": [
      "[ 0  1  2  3  4  5  6  7  8  9 10 11 12 13 14 15 16 17 18 19 20 21 22 23\n",
      " 24 25 26 27 28 29]\n",
      "\n",
      "[[[ 0  1  2  3  4]\n",
      "  [ 5  6  7  8  9]\n",
      "  [10 11 12 13 14]]\n",
      "\n",
      " [[15 16 17 18 19]\n",
      "  [20 21 22 23 24]\n",
      "  [25 26 27 28 29]]]\n"
     ]
    }
   ],
   "source": [
    "a = np.arange(30)\n",
    "\n",
    "b = a.reshape((2, 3, -1))\n",
    "print(a)\n",
    "print()\n",
    "\n",
    "print(b)"
   ]
  },
  {
   "cell_type": "markdown",
   "id": "ed188856",
   "metadata": {},
   "source": [
    "np.arange(30) genererar ett fält(array) med heltalen från 0 till 29, det ökar med 1 per element eftersom vi inte har speciefierat start och step så python skriver ut alla värden från 0 till 29\n",
    "\n",
    "b = a.reshape((2, 3, -1)) reshape betyder att vi kan ändra formen på array till olika dimensioner. 2 representer två block och 3 betyder tre rader, -1  är för att Python ska bestämma dimensioner automatiskt.\n",
    "\n",
    "print a och är utskrift eller output. print() ger mellanrum mellan två resultat.\n"
   ]
  },
  {
   "cell_type": "markdown",
   "id": "039805ba",
   "metadata": {},
   "source": [
    "# Remark on Broadcasting when doing Linear Algebra calculations in Python. "
   ]
  },
  {
   "cell_type": "markdown",
   "id": "ab5933d5",
   "metadata": {},
   "source": [
    "### Broadcasting\n",
    "**Read the following link about broadcasting: https://numpy.org/doc/stable/user/basics.broadcasting.html#basics-broadcasting**"
   ]
  },
  {
   "cell_type": "markdown",
   "id": "c4bcc147",
   "metadata": {},
   "source": [
    "### From the mathematical rules of matrix addition, the operation below (m1 + m2) does not make sense. The reason is that matrix addition requires two matrices of the same size. In Python however, it works due to broadcasting rules in NumPy. So you must be careful when doing Linear Algebra calculations in Python since they do not follow the \"mathematical rules\". This can however easily be handled by doing some simple programming, for example validating that two matrices have the same shape is easy if you for instance want to add two matrices. "
   ]
  },
  {
   "cell_type": "code",
   "execution_count": 14,
   "id": "1fd46778",
   "metadata": {},
   "outputs": [
    {
     "name": "stdout",
     "output_type": "stream",
     "text": [
      "[[2 3]\n",
      " [4 5]]\n"
     ]
    }
   ],
   "source": [
    "m1 = np.array([[1, 2], [3, 4]])\n",
    "m2 = np.array([1, 1])\n",
    "print(m1 + m2)"
   ]
  },
  {
   "cell_type": "markdown",
   "id": "047d6576",
   "metadata": {},
   "source": [
    "### The example below would also not be allowed if following the \"mathematical rules\" in Linear Algebra. But it works due to broadcasting in NumPy. "
   ]
  },
  {
   "cell_type": "code",
   "execution_count": 15,
   "id": "5e6ef2e4",
   "metadata": {},
   "outputs": [
    {
     "name": "stdout",
     "output_type": "stream",
     "text": [
      "[2 3 4]\n"
     ]
    }
   ],
   "source": [
    "v1 = np.array([1, 2, 3])\n",
    "print(v1 + 1)"
   ]
  },
  {
   "cell_type": "code",
   "execution_count": 16,
   "id": "e2cbae26",
   "metadata": {},
   "outputs": [
    {
     "name": "stdout",
     "output_type": "stream",
     "text": [
      "[[1 2]\n",
      " [3 4]]\n",
      "[2 2]\n"
     ]
    }
   ],
   "source": [
    "A = np.arange(1, 5).reshape(2,2)\n",
    "print(A)\n",
    "\n",
    "b = np.array([2, 2])\n",
    "print(b)"
   ]
  },
  {
   "cell_type": "markdown",
   "id": "722fd5cd",
   "metadata": {},
   "source": [
    "# Vector- and matrix algebra Exercises"
   ]
  },
  {
   "cell_type": "markdown",
   "id": "b63a3081-d976-4d9f-bfd0-a63917e79f7d",
   "metadata": {},
   "source": [
    "**Now you are going to create a function that can be reused every time you add or multiply matrices. The function is created so that we do the addition and multiplication according to the rules of vector- and matrix algebra.**\n",
    "\n",
    "**Create a function \"add_mult_matrices\" that takes two matrices as input arguments (validate that the input are of the type numpy.ndarray by using the isinstance function), a third argument that is either 'add' or 'multiply' that specifies if you want to add or multiply the matrices (validate that the third argument is either 'add' or 'multiply'). When doing matrix addition, validate that the matrices have the same size. When doing matrix multiplication, validate that the sizes conform (i.e. number of columns in the first matrix is equal to the number of rows in the second matrix).**"
   ]
  },
  {
   "cell_type": "code",
   "execution_count": 17,
   "id": "3506f977-ac0a-473f-85bc-eec9f35dc498",
   "metadata": {},
   "outputs": [],
   "source": [
    "import numpy as np\n",
    "\n",
    "def add_mult_matrices (M1, M2, add_and_mult):\n",
    "    if not isinstance(M1, np.ndarray) or not isinstance(M2, np.ndarray):\n",
    "        raise ValueError(\"Både ingångar måste vara av type numpy.ndarray\")\n",
    "    \n",
    "    if add_and_mult not in ['add', 'multiply']:\n",
    "        raise ValueError(\"Operationen måste vara antingen 'lägg till' eller 'multiplicera'.\")\n",
    "    \n",
    "    if add_and_mult == 'add':\n",
    "        if M1.shape != M2.shape:\n",
    "            raise ValueError(\"För matrisaddition måste båda matriserna ha samma storlek.\")\n",
    "        return M1 + M2\n",
    "    \n",
    "    elif add_and_mult == 'multiply':\n",
    "        if M1.ndim == 1:  \n",
    "            M1 = M1[:, np.newaxis] \n",
    "        if M2.ndim == 1:  \n",
    "            M2 = M2[np.newaxis, :]  \n",
    "        \n",
    "        if M1.shape[1] != M2.shape[0]:\n",
    "            raise ValueError(\"För att produkten M1M2 ska vara definierad måste antalet kolumner i M1 vara lika med antalet rader i M2.\")\n",
    "        \n",
    "        return np.dot(M1, M2)\n",
    "\n",
    "\n"
   ]
  },
  {
   "cell_type": "markdown",
   "id": "8dad82d0-2359-4dff-8f5b-a57d3e34103c",
   "metadata": {},
   "source": [
    "### Solve all the exercises in chapter 10.1 in the book \"Matematik för yrkeshögskolan\". "
   ]
  },
  {
   "cell_type": "code",
   "execution_count": 18,
   "id": "0a83bcae",
   "metadata": {},
   "outputs": [
    {
     "name": "stdout",
     "output_type": "stream",
     "text": [
      "Uppgift10.1.1:\n",
      "\n",
      "Dimension: 1, Shape: (2,)\n",
      "[[20 15]]\n",
      "[[12  9]]\n",
      "[[32 24]]\n",
      "[[32 24]]\n",
      "[[16 12]]\n",
      "[[12  9]]\n",
      "[[4]\n",
      " [3]]\n",
      "Fel: För matrisaddition måste båda matriserna ha samma storlek.\n",
      "\n",
      "5\n",
      "5\n"
     ]
    }
   ],
   "source": [
    "print(\"Uppgift10.1.1:\")\n",
    "#a\n",
    "print()\n",
    "M1= np.array([4, 3])\n",
    "X = M1\n",
    "print(f\"Dimension: {X.ndim}, Shape: {X.shape}\")\n",
    "#b\n",
    "Z = np.array([[5]])\n",
    "result1 = add_mult_matrices(Z, X, 'multiply')\n",
    "print(result1)\n",
    "#c\n",
    "Z1 = np.array([[3]])\n",
    "result2 = add_mult_matrices(Z1, X, 'multiply')\n",
    "print(result2)\n",
    "#d\n",
    "print(result1+result2)\n",
    "#e\n",
    "Z2 = np.array([[8]])\n",
    "result3 = add_mult_matrices(Z2, X, 'multiply')\n",
    "print(result3)\n",
    "#f\n",
    "Z3 = np.array([[4]])\n",
    "result4 = add_mult_matrices(Z3, X, 'multiply')\n",
    "print(result4)\n",
    "print(result4-X)\n",
    "#g\n",
    "X_T = X.reshape(-1,1)\n",
    "print(X_T)\n",
    "#h\n",
    "try:\n",
    "    result_X = add_mult_matrices(X, X_T, 'add')  \n",
    "    print(result_X)\n",
    "except ValueError as e:\n",
    "    print(f\"Fel: {e}\") \n",
    "#i\n",
    "print()\n",
    "result_i = np.linalg.norm(X, ord=2)\n",
    "print(int(result_i))\n",
    "#koden kan skrivas så här också\n",
    "norm_X = int(np.linalg.norm(X))\n",
    "print(norm_X)"
   ]
  },
  {
   "cell_type": "code",
   "execution_count": 19,
   "id": "ab551d53",
   "metadata": {},
   "outputs": [
    {
     "name": "stdout",
     "output_type": "stream",
     "text": [
      "Uppgift 10.1.2:\n",
      "\n",
      "[[ 3]\n",
      " [ 7]\n",
      " [ 0]\n",
      " [11]]\n",
      "\n",
      "Dimension: 2, Form: (4, 1)\n",
      "[[ 6]\n",
      " [14]\n",
      " [ 0]\n",
      " [22]]\n",
      "\n",
      "[[21]\n",
      " [49]\n",
      " [ 0]\n",
      " [77]]\n",
      "\n",
      "[[ 6]\n",
      " [14]\n",
      " [ 0]\n",
      " [22]]\n",
      "[ 3  7  0 11]\n",
      "\n",
      "Dimension: 2, Form: (4, 1)\n",
      "\n",
      "13.379088160259652\n"
     ]
    }
   ],
   "source": [
    "print(\"Uppgift 10.1.2:\")\n",
    "#a\n",
    "print()\n",
    "v = np.array([3, 7, 0, 11])\n",
    "vektor = v.reshape(4, 1)\n",
    "print(vektor)\n",
    "print()\n",
    "print(f\"Dimension: {vektor.ndim}, Form: {vektor.shape}\")\n",
    "\n",
    "#b\n",
    "v1= 2*vektor\n",
    "print(v1)\n",
    "#c\n",
    "print()\n",
    "v2= 5*vektor\n",
    "print(v2+v1)\n",
    "#d\n",
    "print()\n",
    "v4= 4*vektor\n",
    "print(v4-v1)\n",
    "\n",
    "print(v,)\n",
    "\n",
    "#e\n",
    "print()\n",
    "vektor2 = vektor.reshape(4,1)\n",
    "print(f\"Dimension: {vektor2.ndim}, Form: {vektor2.shape}\")\n",
    "\n",
    "#f\n",
    "print()\n",
    "result_f = np.linalg.norm(v, ord=2)\n",
    "print((result_f))\n"
   ]
  },
  {
   "cell_type": "code",
   "execution_count": 20,
   "id": "5178397e",
   "metadata": {},
   "outputs": [
    {
     "name": "stdout",
     "output_type": "stream",
     "text": [
      "Uppgift 10.1.3:\n",
      "\n",
      "7.14142842854285\n",
      "4.47213595499958\n"
     ]
    }
   ],
   "source": [
    "print(\"Uppgift 10.1.3:\")\n",
    "\n",
    "v_1 = np.array([4, 3, 1, 5])\n",
    "v_2 = np.array([2, 3, 1, 1])\n",
    "print()\n",
    "result_a = np.linalg.norm(v_1, ord=2)\n",
    "print((result_a))\n",
    "\n",
    "result_b = np.linalg.norm(v_2, ord=2)\n",
    "\n",
    "result_c = np.linalg.norm(v_1-v_2, ord=2)\n",
    "print(result_c)"
   ]
  },
  {
   "cell_type": "markdown",
   "id": "75c98984-1f88-4df1-b850-d2466de444a5",
   "metadata": {},
   "source": [
    "### Solve all the exercises, except 10.2.4, in chapter 10.2 in the book \"Matematik för yrkeshögskolan\". "
   ]
  },
  {
   "cell_type": "code",
   "execution_count": 21,
   "id": "65371610-16e1-48b2-b7fb-65e49002608a",
   "metadata": {},
   "outputs": [
    {
     "name": "stdout",
     "output_type": "stream",
     "text": [
      "a) [[ 4  2 -2]\n",
      " [ 2 -2  2]]\n",
      "\n",
      "b) [[ 0 -4  3]\n",
      " [ 0 -2 -4]]\n",
      "\n",
      "C) Ej definierat\n",
      "\n",
      "d) [[3 2]\n",
      " [2 3]]\n",
      "\n",
      "e) [[ 9 12]\n",
      " [12  9]]\n",
      "\n",
      "f) [[-4 -4]\n",
      " [-4 -4]]\n",
      "\n",
      "g) Ej definierat\n",
      "\n",
      "h) Ej definierat\n",
      "\n",
      "i) [[11 10]\n",
      " [10 11]]\n",
      "\n",
      "j) [[  8 -10  -3]\n",
      " [ 10  -8   0]]\n",
      "\n",
      "k) [[1 2]\n",
      " [2 1]]\n",
      "\n",
      "l) [[5 2]\n",
      " [7 4]]\n"
     ]
    }
   ],
   "source": [
    "A = np.array([[2, 1, -1], [1, -1, 1]])\n",
    "B=  np.array([[4, -2, 1], [2, -4, -2]])\n",
    "C=  np.array([[1, 2], [2, 1]])\n",
    "D=  np.array([[3, 4], [4, 3]])\n",
    "E=  np.array([[1,2]])\n",
    "I=  np.array([[1, 0], [0, 1]])\n",
    "\n",
    "\n",
    "result_a = 2 * A\n",
    "result_b = B - 2 * A\n",
    "#c är ej definierat\n",
    "if C.shape == E.shape:\n",
    "    result_C = 3*C-2*E\n",
    "else:\n",
    "    result_c = \"Ej definierat\"   \n",
    "\n",
    "result_d = 2 * D - 3 * C\n",
    "result_e = D.T + 2 * D\n",
    "result_f = 2*C.T - 2*D.T\n",
    "#result_g = A.T - B\n",
    "if A.T.shape == B.shape:\n",
    "    result_g = A.T - B\n",
    "else:\n",
    "    result_g = \"Ej definierat\"     \n",
    "  \n",
    "  \n",
    "if A.shape == C.shape:\n",
    "    result_h = A*C\n",
    "else:\n",
    "    result_h = \"Ej definierat\"   \n",
    "\n",
    "result_i = np.dot(C, D)\n",
    "\n",
    "result_j = np.dot(C, B)\n",
    "result_k = np.dot(C, I)\n",
    "result_l = np.dot(A, B.T)\n",
    "# Skriv ut resultaten\n",
    "print(\"a)\", result_a)\n",
    "print()\n",
    "print(\"b)\", result_b)\n",
    "print()\n",
    "print(\"C)\", result_c)\n",
    "print()\n",
    "print(\"d)\", result_d)\n",
    "print()\n",
    "print(\"e)\", result_e)\n",
    "print()\n",
    "print(\"f)\", result_f)\n",
    "print()\n",
    "print(\"g)\", result_g)\n",
    "print()\n",
    "print(\"h)\", result_h)\n",
    "print() \n",
    "print(\"i)\", result_i)\n",
    "print() \n",
    "print(\"j)\", result_j)\n",
    "print() \n",
    "print(\"k)\", result_k)\n",
    "print() \n",
    "print(\"l)\", result_l)"
   ]
  },
  {
   "cell_type": "code",
   "execution_count": 24,
   "id": "a2d64a4f",
   "metadata": {},
   "outputs": [
    {
     "name": "stdout",
     "output_type": "stream",
     "text": [
      "uppgift 10.2.2:\n",
      "[[29 26]\n",
      " [26 42]]\n"
     ]
    }
   ],
   "source": [
    "print(\"uppgift 10.2.2:\")\n",
    "\n",
    "A = np.array([[2, 3, 4], [5, 4, 1]])\n",
    "resultat = np.dot(A, A.T)\n",
    "print(resultat)"
   ]
  },
  {
   "cell_type": "code",
   "execution_count": 37,
   "id": "986a8526",
   "metadata": {},
   "outputs": [
    {
     "name": "stdout",
     "output_type": "stream",
     "text": [
      "uppgift 10.2.4:\n",
      "[[ 4  7]\n",
      " [ 8 14]]\n",
      "[[ 4  5]\n",
      " [ 8 10]]\n",
      "AB ≠ AC\n"
     ]
    }
   ],
   "source": [
    "print(\"uppgift 10.2.4:\")\n",
    "\n",
    "def jämföra(A, B, C):\n",
    "    if np.array_equal(AB, AC):\n",
    "      return \"AB = AC\"\n",
    "    else:\n",
    "      return \"AB ≠ AC\"\n",
    "\n",
    "result = jämföra(A, B, C)\n",
    "\n",
    "A = np.array([[1, 2], [2, 4]])\n",
    "B = np.array([[2, 1], [1, 3]])\n",
    "C = np.array([[4, 3], [0, 1]])\n",
    "\n",
    "AB = np.dot(A, B)\n",
    "AC = np.dot(A, C)\n",
    "\n",
    "print(AB)\n",
    "print(AC)\n",
    "print(result)"
   ]
  },
  {
   "cell_type": "markdown",
   "id": "6a4a524f",
   "metadata": {},
   "source": [
    "### Copies and Views\n",
    "Read the following link: https://numpy.org/doc/stable/user/basics.copies.html"
   ]
  },
  {
   "cell_type": "markdown",
   "id": "6cbbeaf7",
   "metadata": {},
   "source": [
    "**Basic indexing creates a view, How can you check if v1 and v2 is a view or copy? If you change the last element in v2 to 123, will the last element in v1 be changed? Why?**"
   ]
  },
  {
   "cell_type": "code",
   "execution_count": 57,
   "id": "5b9ef4df",
   "metadata": {},
   "outputs": [
    {
     "name": "stdout",
     "output_type": "stream",
     "text": [
      "[0 1 2 3]\n",
      "[2 3]\n"
     ]
    },
    {
     "data": {
      "text/plain": [
       "' It means that v2 refers to the same data as v1'"
      ]
     },
     "execution_count": 57,
     "metadata": {},
     "output_type": "execute_result"
    }
   ],
   "source": [
    "v1 = np.arange(4)\n",
    "v2 = v1[-2:]\n",
    "print(v1)\n",
    "print(v2)\n",
    "#If you change the last element in v2 to 123, will the last element in v1 be changed? Why?\n",
    "\"\"\" It means that v2 refers to the same data as v1\"\"\"\n",
    "\n"
   ]
  },
  {
   "cell_type": "code",
   "execution_count": 56,
   "id": "d2440489",
   "metadata": {},
   "outputs": [
    {
     "name": "stdout",
     "output_type": "stream",
     "text": [
      "None\n",
      "[  0   1   2 123]\n"
     ]
    },
    {
     "data": {
      "text/plain": [
       "'If it is a view, v2.base will refer to v1. If it is a copy, v2.base will be None.'"
      ]
     },
     "execution_count": 56,
     "metadata": {},
     "output_type": "execute_result"
    }
   ],
   "source": [
    "# The base attribute of a view returns the original array while it returns None for a copy.\n",
    "print(v1.base)\n",
    "print(v2.base)\n",
    "\n",
    "\"\"\"If it is a view, v2.base will refer to v1. If it is a copy, v2.base will be None.\"\"\""
   ]
  },
  {
   "cell_type": "code",
   "execution_count": 55,
   "id": "c8752807",
   "metadata": {},
   "outputs": [
    {
     "name": "stdout",
     "output_type": "stream",
     "text": [
      "[  0   1   2 123]\n",
      "[  2 123]\n"
     ]
    },
    {
     "data": {
      "text/plain": [
       "' Yes, bc both refers to the same data. When we change the value in v2 wich is a view of v1 it will affect v1'"
      ]
     },
     "execution_count": 55,
     "metadata": {},
     "output_type": "execute_result"
    }
   ],
   "source": [
    "# The last element in v1 will be changed aswell since v2 is a view, meaning they share the same data buffer.\n",
    "v2[-1] = 123\n",
    "print(v1)\n",
    "print(v2)\n",
    "\n",
    "\"\"\" Yes, bc both refers to the same data. When we change the value in v2 wich is a view of v1 it will affect v1\"\"\""
   ]
  }
 ],
 "metadata": {
  "kernelspec": {
   "display_name": "Python 3",
   "language": "python",
   "name": "python3"
  },
  "language_info": {
   "codemirror_mode": {
    "name": "ipython",
    "version": 3
   },
   "file_extension": ".py",
   "mimetype": "text/x-python",
   "name": "python",
   "nbconvert_exporter": "python",
   "pygments_lexer": "ipython3",
   "version": "3.12.7"
  }
 },
 "nbformat": 4,
 "nbformat_minor": 5
}
